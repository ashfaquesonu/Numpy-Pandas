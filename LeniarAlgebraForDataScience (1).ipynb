{
 "cells": [
  {
   "cell_type": "code",
   "execution_count": 1,
   "id": "d9277aa2-8fb6-4188-a095-c922fcaf66c1",
   "metadata": {},
   "outputs": [
    {
     "name": "stdout",
     "output_type": "stream",
     "text": [
      "[5, 10, 15]\n"
     ]
    }
   ],
   "source": [
    "#Example for scalar Multiplication\n",
    "\n",
    "scalar = 5\n",
    "vector = [1,2,3]\n",
    "\n",
    "result = [scalar * i for i in vector]\n",
    "print(result)\n"
   ]
  },
  {
   "cell_type": "code",
   "execution_count": 3,
   "id": "d2ec5734-996b-4b14-a7b1-f5f512823584",
   "metadata": {},
   "outputs": [
    {
     "name": "stdout",
     "output_type": "stream",
     "text": [
      "[5 7 9]\n"
     ]
    },
    {
     "data": {
      "text/plain": [
       "array([3, 6, 9])"
      ]
     },
     "execution_count": 3,
     "metadata": {},
     "output_type": "execute_result"
    }
   ],
   "source": [
    "#vector addition and scalar multiplication\n",
    "import numpy as np\n",
    "vector1 = np.array([1,2,3])\n",
    "vector2 = np.array([4,5,6])\n",
    "\n",
    "#vector additiono\n",
    "addn = vector1 + vector2\n",
    "print(addn)\n",
    "\n",
    "#scalar multiplicaton\n",
    "scalar = 3\n",
    "multplcn = scalar * vector1\n",
    "multplcn"
   ]
  },
  {
   "cell_type": "code",
   "execution_count": 9,
   "id": "0be36069-8c71-4c6e-8223-8d564d3b2c9e",
   "metadata": {},
   "outputs": [
    {
     "name": "stdout",
     "output_type": "stream",
     "text": [
      "3.7416573867739413\n"
     ]
    }
   ],
   "source": [
    "#magnitude of a vector\n",
    "magnitude = np.linalg.norm(vector1)\n",
    "print(magnitude)"
   ]
  },
  {
   "cell_type": "code",
   "execution_count": 17,
   "id": "11dfbb2c-e86d-4a29-a00b-24a9dd47d802",
   "metadata": {},
   "outputs": [
    {
     "name": "stdout",
     "output_type": "stream",
     "text": [
      "[[1 2]\n",
      " [3 4]]\n",
      "[[5 6]\n",
      " [7 8]]\n",
      "[[ 6  8]\n",
      " [10 12]]\n"
     ]
    }
   ],
   "source": [
    "matrix = np.array([[1,2],[3,4]])\n",
    "matrix1 = np.array([[5,6],[7,8]])\n",
    "print(matrix)\n",
    "print(matrix1)\n",
    "matrixAddition = matrix + matrix1\n",
    "print(matrixAddition)"
   ]
  },
  {
   "cell_type": "code",
   "execution_count": 25,
   "id": "d23fd247-cc2b-47ee-b613-8d5c3f266dd8",
   "metadata": {},
   "outputs": [
    {
     "name": "stdout",
     "output_type": "stream",
     "text": [
      "[[1. 0. 0.]\n",
      " [0. 1. 0.]\n",
      " [0. 0. 1.]]\n"
     ]
    }
   ],
   "source": [
    "#Identity Matrixes\n",
    "identity = np.eye(3,3)\n",
    "print(identity)"
   ]
  },
  {
   "cell_type": "code",
   "execution_count": 27,
   "id": "e6a26d4f-3cf5-49b0-ad36-bdef97603ec8",
   "metadata": {},
   "outputs": [
    {
     "name": "stdout",
     "output_type": "stream",
     "text": [
      "[[19 22]\n",
      " [43 50]]\n"
     ]
    }
   ],
   "source": [
    "#Matrix Multiplication\n",
    "matrix1 = np.array([[1,2],[3,4]])\n",
    "matrix2 = np.array([[5,6],[7,8]])\n",
    "\n",
    "multplcn = np.dot(matrix1,matrix2)\n",
    "print(multplcn)\n",
    "\n",
    "\n"
   ]
  },
  {
   "cell_type": "code",
   "execution_count": 31,
   "id": "ae6d215d-382d-4b0e-a6ea-faa082e0d51f",
   "metadata": {},
   "outputs": [
    {
     "name": "stdout",
     "output_type": "stream",
     "text": [
      "32\n",
      "[-3  6 -3]\n"
     ]
    }
   ],
   "source": [
    "#Vector Operations\n",
    "a = np.array([1,2,3])\n",
    "b = np.array([4,5,6])\n",
    "\n",
    "dot = np.dot(a,b)\n",
    "print(dot)\n",
    "\n",
    "#Cross Product\n",
    "\n",
    "cross = np.cross(a,b)\n",
    "print(cross)\n"
   ]
  },
  {
   "cell_type": "code",
   "execution_count": 35,
   "id": "fee2e1b6-ce28-4214-8e87-0aa3508d6a8a",
   "metadata": {},
   "outputs": [
    {
     "name": "stdout",
     "output_type": "stream",
     "text": [
      "[-3  6 -3]\n",
      "[ 3 -6  3]\n"
     ]
    }
   ],
   "source": [
    "#cross product is not commutative\n",
    "a = np.array([1,2,3])\n",
    "b = np.array([4,5,6])\n",
    "\n",
    "crossab = np.cross(a,b)\n",
    "crossba = np.cross(b,a)\n",
    "\n",
    "print(crossab)\n",
    "print(crossba)"
   ]
  },
  {
   "cell_type": "code",
   "execution_count": 37,
   "id": "e37abe17-8ee6-408b-b4da-cdaaccd914da",
   "metadata": {},
   "outputs": [
    {
     "name": "stdout",
     "output_type": "stream",
     "text": [
      "[[1 2 3]\n",
      " [4 5 6]]\n",
      "[[1 4]\n",
      " [2 5]\n",
      " [3 6]]\n"
     ]
    }
   ],
   "source": [
    "#Matrix Transpose\n",
    "A = np.array([[1,2,3],[4,5,6]])\n",
    "print(A)\n",
    "transpose = A.T\n",
    "print(transpose)"
   ]
  },
  {
   "cell_type": "code",
   "execution_count": 43,
   "id": "2e5b1932-d0f4-42e2-9e63-fb33a0734171",
   "metadata": {},
   "outputs": [
    {
     "name": "stdout",
     "output_type": "stream",
     "text": [
      "-2.0000000000000004\n",
      "0.9999999999999964\n"
     ]
    }
   ],
   "source": [
    "#Determinant of matrix\n",
    "#2x2\n",
    "a = np.array([[1,2],[3,4]])\n",
    "det_a = np.linalg.det(a)\n",
    "print(det_a)\n",
    "\n",
    "#3x3\n",
    "b = np.array([[1,2,3],[0,1,4],[5,6,0]])\n",
    "det_b = np.linalg.det(b)\n",
    "print(det_b)"
   ]
  },
  {
   "cell_type": "code",
   "execution_count": 49,
   "id": "bd7c8733-c4b6-4871-a46f-fbe284a54293",
   "metadata": {},
   "outputs": [
    {
     "name": "stdout",
     "output_type": "stream",
     "text": [
      "[[ 0.6 -0.7]\n",
      " [-0.2  0.4]]\n"
     ]
    }
   ],
   "source": [
    "#inverse of a matrix\n",
    "a = np.array([[4,7],[2,6]])\n",
    "inv_a = np.linalg.inv(a)\n",
    "print(inv_a)"
   ]
  },
  {
   "cell_type": "code",
   "execution_count": 59,
   "id": "4b13c2b9-e319-44c8-9881-ddfab2731dea",
   "metadata": {},
   "outputs": [
    {
     "name": "stdout",
     "output_type": "stream",
     "text": [
      "[[1. 0.]\n",
      " [0. 1.]]\n",
      "[[2. 3.]\n",
      " [5. 4.]]\n"
     ]
    }
   ],
   "source": [
    "#Define 2x2 matrix and verify identity property\n",
    "\n",
    "a = np.array([[2,3],[5,4]])\n",
    "I = np.eye(2,2)\n",
    "print(I)\n",
    "result = a @ I\n",
    "print(result)\n"
   ]
  },
  {
   "cell_type": "code",
   "execution_count": 65,
   "id": "26705f97-9a8e-464f-aaa4-9d14932aa711",
   "metadata": {},
   "outputs": [
    {
     "name": "stdout",
     "output_type": "stream",
     "text": [
      "[5. 2.]\n",
      "EigResult(eigenvalues=array([5., 2.]), eigenvectors=array([[ 0.70710678, -0.4472136 ],\n",
      "       [ 0.70710678,  0.89442719]]))\n"
     ]
    }
   ],
   "source": [
    "#EigenValue\n",
    "a = np.array([[4,1],\n",
    "              [2,3]])\n",
    "eigenvalue = np.linalg.eigvals(a)\n",
    "print(eigenvalue)\n",
    "#EigenVector\n",
    "eigenvector = np.linalg.eig(a)\n",
    "print(eigenvector)\n"
   ]
  },
  {
   "cell_type": "code",
   "execution_count": 11,
   "id": "ba6ebca8-fdf7-490a-b527-7f7e93816048",
   "metadata": {},
   "outputs": [
    {
     "name": "stdout",
     "output_type": "stream",
     "text": [
      "[ 6  8 10 12]\n",
      "[-4 -4 -4 -4]\n",
      "[ 5 12 21 32]\n"
     ]
    }
   ],
   "source": [
    "#Revision\n",
    "v1 = np.array([1,2,3,4])\n",
    "v2 = np.array([5,6,7,8])\n",
    "\n",
    "print(np.add(v1,v2))\n",
    "print(np.subtract(v1,v2))\n",
    "print(np.multiply(v1,v2))\n"
   ]
  },
  {
   "cell_type": "code",
   "execution_count": 19,
   "id": "0f40a774-807b-4f01-a6b3-b93f5143d7c7",
   "metadata": {},
   "outputs": [
    {
     "name": "stdout",
     "output_type": "stream",
     "text": [
      "[[1 2]\n",
      " [3 4]]\n",
      "[[1. 0.]\n",
      " [0. 1.]\n",
      " [0. 0.]]\n"
     ]
    }
   ],
   "source": [
    "matrix = np.array([[1,2],[3,4]])\n",
    "print(matrix)\n",
    "identity = np.eye(3,2)\n",
    "print(identity)\n"
   ]
  },
  {
   "cell_type": "code",
   "execution_count": 27,
   "id": "6e3247e1-c89e-4c02-b40f-af575f9f4e79",
   "metadata": {},
   "outputs": [
    {
     "name": "stdout",
     "output_type": "stream",
     "text": [
      "[[ 6  8]\n",
      " [10 12]]\n",
      "[[-4 -4]\n",
      " [-4 -4]]\n",
      "[[19 22]\n",
      " [43 50]]\n"
     ]
    }
   ],
   "source": [
    "matrix1 = np.array([[1, 2], [3, 4]])\n",
    "matrix2 = np.array([[5, 6], [7, 8]])\n",
    "\n",
    "print(np.add(matrix1,matrix2))\n",
    "print(np.subtract(matrix1,matrix2))\n",
    "print(np.dot(matrix1,matrix2))"
   ]
  },
  {
   "cell_type": "code",
   "execution_count": 29,
   "id": "f40e30c7-e0c2-4eb4-85f9-cdde38631e9a",
   "metadata": {},
   "outputs": [
    {
     "name": "stdout",
     "output_type": "stream",
     "text": [
      "32\n"
     ]
    }
   ],
   "source": [
    "v1 = np.array([1,2,3])\n",
    "v2 = np.array([4,5,6])\n",
    "\n",
    "print(np.dot(v1,v2))"
   ]
  },
  {
   "cell_type": "code",
   "execution_count": 78,
   "id": "c1a514c7-642b-4604-8ff3-b88c95f62c3f",
   "metadata": {},
   "outputs": [
    {
     "data": {
      "text/plain": [
       "<mpl_toolkits.mplot3d.art3d.Line3DCollection at 0x1f009c85e80>"
      ]
     },
     "execution_count": 78,
     "metadata": {},
     "output_type": "execute_result"
    },
    {
     "data": {
      "image/png": "[encoded data removed]",
      "text/plain": [
       "<Figure size 640x480 with 1 Axes>"
      ]
     },
     "metadata": {},
     "output_type": "display_data"
    }
   ],
   "source": [
    "import matplotlib.pyplot as plt\n",
    "v1 = np.array([1,2,3])\n",
    "v2 = np.array([4,5,6])\n",
    "cross = np.cross(v1,v2)\n",
    "fig = plt.figure()\n",
    "ax = fig.add_subplot(111,projection='3d')\n",
    "\n",
    "ax.quiver(0 , 0 , 0, v1[0],v1[1],v1[2])\n",
    "ax.quiver(0 , 0 , 0, v2[0],v2[1],v2[2])\n",
    "ax.quiver(0, 0, 0, cross[0],cross[1],cross[2])\n",
    "\n"
   ]
  },
  {
   "cell_type": "code",
   "execution_count": 35,
   "id": "5d720df5-3a3a-4770-924a-809a7aeee816",
   "metadata": {},
   "outputs": [
    {
     "name": "stdout",
     "output_type": "stream",
     "text": [
      "-2.0000000000000004\n",
      "[[-2.   1. ]\n",
      " [ 1.5 -0.5]]\n"
     ]
    }
   ],
   "source": [
    "matrix = np.array([[1,2],[3,4]])\n",
    "print(np.linalg.det(matrix))\n",
    "print(np.linalg.inv(matrix))"
   ]
  },
  {
   "cell_type": "code",
   "execution_count": 50,
   "id": "dcf06f90-1553-4984-b3f0-043d7b8f2515",
   "metadata": {},
   "outputs": [
    {
     "name": "stdout",
     "output_type": "stream",
     "text": [
      "[-0.37228132  5.37228132]\n",
      "EigResult(eigenvalues=array([-0.37228132,  5.37228132]), eigenvectors=array([[-0.82456484, -0.41597356],\n",
      "       [ 0.56576746, -0.90937671]]))\n"
     ]
    }
   ],
   "source": [
    "matrix = np.array([[1,2],[3,4]])\n",
    "\n",
    "print(np.linalg.eigvals(matrix))\n",
    "print(np.linalg.eig(matrix))"
   ]
  },
  {
   "cell_type": "code",
   "execution_count": 82,
   "id": "667274f8-b134-4f34-9544-be472e66f1ab",
   "metadata": {},
   "outputs": [
    {
     "name": "stdout",
     "output_type": "stream",
     "text": [
      "[-4.   4.5]\n"
     ]
    }
   ],
   "source": [
    "A = np.array([[1,2],[3,4]])\n",
    "b = np.array([5,6])\n",
    "print(np.linalg.solve(A,b))"
   ]
  },
  {
   "cell_type": "code",
   "execution_count": null,
   "id": "1620b10e-6393-4dc7-86a8-067a1578e488",
   "metadata": {},
   "outputs": [],
   "source": []
  },
  {
   "cell_type": "code",
   "execution_count": null,
   "id": "4bd77114-e75b-4f7c-ae88-97b227175399",
   "metadata": {},
   "outputs": [],
   "source": []
  },
  {
   "cell_type": "markdown",
   "id": "62a37216-8585-4447-b97a-7d22e0e90b5f",
   "metadata": {},
   "source": []
  }
 ],
 "metadata": {
  "kernelspec": {
   "display_name": "Python 3 (ipykernel)",
   "language": "python",
   "name": "python3"
  },
  "language_info": {
   "codemirror_mode": {
    "name": "ipython",
    "version": 3
   },
   "file_extension": ".py",
   "mimetype": "text/x-python",
   "name": "python",
   "nbconvert_exporter": "python",
   "pygments_lexer": "ipython3",
   "version": "3.12.4"
  }
 },
 "nbformat": 4,
 "nbformat_minor": 5
}

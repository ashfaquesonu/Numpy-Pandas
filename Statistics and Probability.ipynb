{
 "cells": [
  {
   "cell_type": "code",
   "execution_count": 3,
   "id": "042c2400-7292-4571-ad12-653f7def74ce",
   "metadata": {},
   "outputs": [
    {
     "name": "stdout",
     "output_type": "stream",
     "text": [
      "35.0\n",
      "35.0\n"
     ]
    }
   ],
   "source": [
    "#Mean(average)\n",
    "import pandas as pd\n",
    "data = pd.Series([10,20,30,40,50,60])\n",
    "\n",
    "mean = data.mean()\n",
    "print(mean)\n",
    "#Median\n",
    "median = data.median()\n",
    "print(median)\n"
   ]
  },
  {
   "cell_type": "code",
   "execution_count": 32,
   "id": "fe8faf07-adac-42cd-9a37-c31c0a5176c6",
   "metadata": {},
   "outputs": [
    {
     "name": "stdout",
     "output_type": "stream",
     "text": [
      "0    40\n",
      "dtype: int64\n",
      "12.817398889233115\n",
      "164.28571428571428\n"
     ]
    }
   ],
   "source": [
    "#Mode(most frequently value)\n",
    "data = pd.Series([10,20,30,40,50,30,40,40])\n",
    "modevalue = data.mode()\n",
    "print(modevalue)\n",
    "#Std Deviation\n",
    "std = data.std()\n",
    "print(std)\n",
    "#variance(sqr of sd)\n",
    "print(data.var())\n",
    "\n"
   ]
  },
  {
   "cell_type": "code",
   "execution_count": 36,
   "id": "4f6c23ad-fe4a-4cd7-b608-387eef18faa8",
   "metadata": {},
   "outputs": [
    {
     "name": "stdout",
     "output_type": "stream",
     "text": [
      "-0.6105830850825604\n",
      "-0.0211720226843104\n"
     ]
    }
   ],
   "source": [
    "#Skewness\n",
    "skewValue = data.skew()\n",
    "print(skewValue)\n",
    "#kurtosis \n",
    "print(data.kurt())"
   ]
  },
  {
   "cell_type": "code",
   "execution_count": 38,
   "id": "777cba0e-716f-4a72-b542-cd18b9de2d91",
   "metadata": {},
   "outputs": [
    {
     "name": "stdout",
     "output_type": "stream",
     "text": [
      "count     5.000000\n",
      "mean     30.000000\n",
      "std      15.811388\n",
      "min      10.000000\n",
      "25%      20.000000\n",
      "50%      30.000000\n",
      "75%      40.000000\n",
      "max      50.000000\n",
      "dtype: float64\n"
     ]
    }
   ],
   "source": [
    "#Summary Statistics\n",
    "data = pd.Series([10, 20, 30, 40, 50])\n",
    "print(data.describe())"
   ]
  },
  {
   "cell_type": "code",
   "execution_count": 42,
   "id": "78089c87-c3ec-4774-9552-8ce12b67fa5f",
   "metadata": {},
   "outputs": [
    {
     "name": "stdout",
     "output_type": "stream",
     "text": [
      "40.0\n"
     ]
    }
   ],
   "source": [
    "#percentile using numpy\n",
    "import numpy as np\n",
    "data = np.array([10,20,30,40,50])\n",
    "percentile_75 = np.percentile(data,75)\n",
    "print(percentile_75)\n"
   ]
  },
  {
   "cell_type": "code",
   "execution_count": 5,
   "id": "98f1ed8e-9d9e-4a86-9907-0af822006fb6",
   "metadata": {},
   "outputs": [
    {
     "name": "stdout",
     "output_type": "stream",
     "text": [
      "0.5\n"
     ]
    }
   ],
   "source": [
    "#Basic Probability\n",
    "outcomes = ['head','tail']\n",
    "favaroble = outcomes.count('head')\n",
    "totaloutcomes = len(outcomes)\n",
    "#probab of heads\n",
    "print(favaroble/totaloutcomes)\n"
   ]
  },
  {
   "cell_type": "code",
   "execution_count": 3,
   "id": "fb5d8db3-e30e-4759-82a8-c8b2dab1ddc5",
   "metadata": {},
   "outputs": [
    {
     "name": "stdout",
     "output_type": "stream",
     "text": [
      "[1 0 1 0 1]\n"
     ]
    }
   ],
   "source": [
    "#Random variables and Distribution\n",
    "#Bernoulli Distribution\n",
    "from scipy.stats import *\n",
    "p = 0.6\n",
    "bernoulli = bernoulli(p)\n",
    "sample = bernoulli.rvs(size=5)\n",
    "print(sample)\n",
    "\n"
   ]
  },
  {
   "cell_type": "code",
   "execution_count": 92,
   "id": "498fc7ad-ffe6-4aac-b405-e2a248de1531",
   "metadata": {},
   "outputs": [
    {
     "name": "stdout",
     "output_type": "stream",
     "text": [
      "[2 2 2 0 1]\n"
     ]
    }
   ],
   "source": [
    "#Poissson distribn(no of event in fixed intervel)\n",
    "from scipy.stats import poisson\n",
    "rate = 3\n",
    "poisson = poisson(rate)\n",
    "sample = poisson.rvs(size=5)\n",
    "print(sample)"
   ]
  },
  {
   "cell_type": "code",
   "execution_count": 5,
   "id": "d66e5293-17fc-44c2-ba98-eb0011a7412d",
   "metadata": {},
   "outputs": [
    {
     "name": "stdout",
     "output_type": "stream",
     "text": [
      "[-1.81269189  0.03501606 -0.50601079 -1.02392511 -0.36510155]\n"
     ]
    }
   ],
   "source": [
    "#Normal Distribution\n",
    "from scipy.stats import *\n",
    "mean = 0\n",
    "sd = 1\n",
    "normal = norm(mean,sd)\n",
    "print(normal.rvs(size=5))\n",
    "\n"
   ]
  },
  {
   "cell_type": "code",
   "execution_count": 107,
   "id": "6f147f02-400c-4834-bc1c-fca6c60fd4e5",
   "metadata": {},
   "outputs": [
    {
     "name": "stdout",
     "output_type": "stream",
     "text": [
      "0.9331927987311419\n"
     ]
    }
   ],
   "source": [
    "#CDF\n",
    "\"\"\"\n",
    "How do you calculate the probability that a random variable is less than or equal to a certain\n",
    "value using the CDF? A: The CDF gives the probability that a random variable takes on a value less\n",
    "than or equal to a specific point. You can calculate it using scipy.stats.norm.cdf for normal \n",
    "distributions.\n",
    "\n",
    "\"\"\"\n",
    "#for normal distrbn\n",
    "mean = 0\n",
    "sd = 1\n",
    "value = norm.cdf(1.5,mean,sd)\n",
    "print(value)\n"
   ]
  },
  {
   "cell_type": "code",
   "execution_count": 5,
   "id": "652cf7a3-f7f8-41e8-8c15-60424791d7dc",
   "metadata": {},
   "outputs": [
    {
     "name": "stdout",
     "output_type": "stream",
     "text": [
      "F-statistic: 15.799999999999995 p-value: 0.004063405989039041\n"
     ]
    },
    {
     "name": "stderr",
     "output_type": "stream",
     "text": [
      "C:\\Users\\Pavilion\\AppData\\Local\\Temp\\ipykernel_11392\\1268733415.py:9: DeprecationWarning: Please import `f_oneway` from the `scipy.stats` namespace; the `scipy.stats.stats` namespace is deprecated and will be removed in SciPy 2.0.0.\n",
      "  f_stat, p_value = stats.f_oneway(group1, group2, group3)\n"
     ]
    }
   ],
   "source": [
    "#ANOVA\n",
    "import numpy as np\n",
    "from scipy.stats import *\n",
    "\n",
    "group1 = np.array([2.5, 3.0, 2.8])\n",
    "group2 = np.array([3.5, 3.8, 4.0])\n",
    "group3 = np.array([2.9, 3.2, 3.1])\n",
    "\n",
    "f_stat, p_value = stats.f_oneway(group1, group2, group3)\n",
    "print(\"F-statistic:\", f_stat, \"p-value:\", p_value),\n"
   ]
  },
  {
   "cell_type": "code",
   "execution_count": 28,
   "id": "250a650b-2faf-4663-9a60-fac352659fc8",
   "metadata": {},
   "outputs": [
    {
     "name": "stdout",
     "output_type": "stream",
     "text": [
      "31.666666666666668\n",
      "0    40\n",
      "dtype: int64\n",
      "14.719601443879746\n",
      "216.66666666666669\n",
      "-0.4180715202995435\n",
      "-0.8591715976331367\n",
      "count     6.000000\n",
      "mean     31.666667\n",
      "std      14.719601\n",
      "min      10.000000\n",
      "25%      22.500000\n",
      "50%      35.000000\n",
      "75%      40.000000\n",
      "max      50.000000\n",
      "dtype: float64\n",
      "40.0\n"
     ]
    }
   ],
   "source": [
    "#Workout\n",
    "import pandas as pd\n",
    "import numpy as np\n",
    "\n",
    "data = pd.Series([10,20,30,40,50,40])\n",
    "print(data.mean())\n",
    "print(data.mode())\n",
    "print(data.std())\n",
    "print(data.var())\n",
    "print(data.skew())\n",
    "print(data.kurt())\n",
    "print(data.describe())\n",
    "print(np.percentile(data,75))"
   ]
  },
  {
   "cell_type": "code",
   "execution_count": 58,
   "id": "b6229c8b-7be2-44a6-b839-ff54d31ed27f",
   "metadata": {},
   "outputs": [
    {
     "name": "stdout",
     "output_type": "stream",
     "text": [
      "[1 1 0 0 1 0]\n"
     ]
    }
   ],
   "source": [
    "from scipy.stats import *\n",
    "p = 0.8\n",
    "ber = bernoulli(p)\n",
    "result = ber.rvs(size=6)\n",
    "print(result)"
   ]
  },
  {
   "cell_type": "code",
   "execution_count": 21,
   "id": "8b38c441-fda9-468b-8182-571fe6f1ecf1",
   "metadata": {},
   "outputs": [
    {
     "name": "stdout",
     "output_type": "stream",
     "text": [
      "[6 4 8 5 5]\n"
     ]
    }
   ],
   "source": [
    "n = 10 \n",
    "p = 0.5\n",
    "bin = binom(n,p)\n",
    "result = bin.rvs(size=5)\n",
    "print(result)"
   ]
  },
  {
   "cell_type": "code",
   "execution_count": 80,
   "id": "71bc2fa5-c158-4667-901e-bbe6a373f7fe",
   "metadata": {},
   "outputs": [
    {
     "name": "stdout",
     "output_type": "stream",
     "text": [
      "[2 4 2 2]\n"
     ]
    }
   ],
   "source": [
    "lam = 3\n",
    "poison = poisson(lam)\n",
    "print(poison.rvs(size=4))"
   ]
  },
  {
   "cell_type": "code",
   "execution_count": 19,
   "id": "b26b825e-3f25-4ed4-a5fc-2831ac91f828",
   "metadata": {},
   "outputs": [
    {
     "name": "stdout",
     "output_type": "stream",
     "text": [
      "[-0.92159867  0.80034252  0.07608754 -1.71611052]\n"
     ]
    },
    {
     "data": {
      "text/plain": [
       "<BarContainer object of 5 artists>"
      ]
     },
     "execution_count": 19,
     "metadata": {},
     "output_type": "execute_result"
    },
    {
     "data": {
      "image/png": "[encoded data removed]",
      "text/plain": [
       "<Figure size 800x400 with 1 Axes>"
      ]
     },
     "metadata": {},
     "output_type": "display_data"
    }
   ],
   "source": [
    "import matplotlib.pyplot as plt\n",
    "mean = 0\n",
    "sd = 1\n",
    "normal = norm(mean,sd)\n",
    "print(normal.rvs(size=4))\n",
    "plt.figure(figsize=(8, 4))  # Set the size of the figure\n",
    "plt.bar(range(len(sample)), sample)"
   ]
  },
  {
   "cell_type": "code",
   "execution_count": 25,
   "id": "14883089-9694-4922-a55c-ce7b9e342dd9",
   "metadata": {},
   "outputs": [
    {
     "name": "stdout",
     "output_type": "stream",
     "text": [
      "Solution:\n",
      "x = 1.0000000000000002\n",
      "y = -1.0000000000000002\n",
      "z = 2.0\n"
     ]
    }
   ],
   "source": [
    "import numpy as np\n",
    "\n",
    "# Coefficients of the equations\n",
    "A = np.array([[2, -1, 3],\n",
    "              [1, -3, -2],\n",
    "              [3, 2, -1]])\n",
    "\n",
    "# Constants on the right-hand side\n",
    "B = np.array([9, 0, -1])\n",
    "\n",
    "# Solve the system of equations\n",
    "solution = np.linalg.solve(A, B)\n",
    "\n",
    "# Print the solution\n",
    "print(\"Solution:\")\n",
    "print(f\"x = {solution[0]}\")\n",
    "print(f\"y = {solution[1]}\")\n",
    "print(f\"z = {solution[2]}\")\n",
    "\n"
   ]
  },
  {
   "cell_type": "code",
   "execution_count": null,
   "id": "617ff0c6-9eb0-4509-8746-2acabc461d86",
   "metadata": {},
   "outputs": [],
   "source": []
  }
 ],
 "metadata": {
  "kernelspec": {
   "display_name": "Python 3 (ipykernel)",
   "language": "python",
   "name": "python3"
  },
  "language_info": {
   "codemirror_mode": {
    "name": "ipython",
    "version": 3
   },
   "file_extension": ".py",
   "mimetype": "text/x-python",
   "name": "python",
   "nbconvert_exporter": "python",
   "pygments_lexer": "ipython3",
   "version": "3.12.4"
  }
 },
 "nbformat": 4,
 "nbformat_minor": 5
}

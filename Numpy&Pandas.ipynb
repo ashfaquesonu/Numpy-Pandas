{
 "cells": [
  {
   "cell_type": "code",
   "execution_count": 5,
   "id": "2370b0c2-3ca3-42f9-b8a9-39262f2758cd",
   "metadata": {},
   "outputs": [
    {
     "name": "stdout",
     "output_type": "stream",
     "text": [
      "[1 2 3]\n",
      "[[0. 0.]\n",
      " [0. 0.]]\n",
      "[[1. 1. 1.]\n",
      " [1. 1. 1.]]\n",
      "[ 2  4  6  8 10]\n",
      "[ 5.    6.25  7.5   8.75 10.  ]\n"
     ]
    }
   ],
   "source": [
    "import numpy as np\n",
    "arr1 = np.array([1, 2, 3]) \n",
    "print(arr1)\n",
    "arr2 = np.zeros((2,2))\n",
    "print(arr2)\n",
    "arr3 = np.ones((2,3))\n",
    "print(arr3)\n",
    "arr4 = np.arange(2,11,2)\n",
    "print(arr4)\n",
    "arr5 = np.linspace(5,10,5)\n",
    "print(arr5)\n"
   ]
  },
  {
   "cell_type": "code",
   "execution_count": 69,
   "id": "190abf40-ef6a-468d-9364-c5f9c9b1319a",
   "metadata": {},
   "outputs": [
    {
     "name": "stdout",
     "output_type": "stream",
     "text": [
      "[[1 2 3]\n",
      " [4 5 6]]\n",
      "2\n",
      "(2, 3)\n",
      "int32\n",
      "6\n"
     ]
    }
   ],
   "source": [
    "#IMPORTANT ATTRIBUTES OF NUMPY ARRAY\n",
    "\n",
    "arr = np.array([[1,2,3],[4,5,6]])\n",
    "print(arr)\n",
    "print(arr.ndim)#number of dimension\n",
    "print(arr.shape)\n",
    "print(arr.dtype)\n",
    "print(arr.size)"
   ]
  },
  {
   "cell_type": "code",
   "execution_count": 75,
   "id": "3a3c707a-b344-4319-a037-f263118d2145",
   "metadata": {},
   "outputs": [
    {
     "name": "stdout",
     "output_type": "stream",
     "text": [
      "[5 7 9]\n",
      "[ 4 10 18]\n",
      "[3 3 3]\n",
      "[4.  2.5 2. ]\n"
     ]
    }
   ],
   "source": [
    "#Arithemetic Operation On Numpy Array\n",
    "a1 = np.array([1,2,3])\n",
    "a2 = np.array([4,5,6])\n",
    "\n",
    "print(a1 + a2)\n",
    "print(a1 * a2)\n",
    "print(a2 - a1)\n",
    "print(a2 / a1)\n"
   ]
  },
  {
   "cell_type": "code",
   "execution_count": 87,
   "id": "71596dcc-a715-4b59-ad50-1c6271f40f5e",
   "metadata": {},
   "outputs": [
    {
     "name": "stdout",
     "output_type": "stream",
     "text": [
      "30\n",
      "[20 30 40]\n",
      "[50 40 30 20 10]\n"
     ]
    }
   ],
   "source": [
    "#INDEXING AND SLICING\n",
    "a = np.array([10,20,30,40,50])\n",
    "print(a[2])\n",
    "\n",
    "print(a[1:4])\n",
    "print(a[::-1])"
   ]
  },
  {
   "cell_type": "code",
   "execution_count": 390,
   "id": "91c7ad70-3b6d-4294-b229-52c8f136aa37",
   "metadata": {},
   "outputs": [
    {
     "name": "stdout",
     "output_type": "stream",
     "text": [
      "[[1 2]\n",
      " [2 4]\n",
      " [5 6]]\n",
      "[1 2 2 4 5 6]\n",
      "[1 2 2 4 5 6]\n"
     ]
    }
   ],
   "source": [
    "a = np.array([[1,2,2],[4,5,6]])\n",
    "print(a.reshape(3,2))\n",
    "print(a.flatten())\n",
    "print(a.ravel())\n"
   ]
  },
  {
   "cell_type": "code",
   "execution_count": 14,
   "id": "5bad94e8-9103-44ac-bb85-844607b7bbe0",
   "metadata": {},
   "outputs": [
    {
     "name": "stdout",
     "output_type": "stream",
     "text": [
      "[[1 2]\n",
      " [3 4]\n",
      " [5 6]\n",
      " [7 8]]\n",
      "...............\n",
      "[[1 2]\n",
      " [3 4]\n",
      " [5 6]\n",
      " [7 8]]\n",
      "[[1 2 5 6]\n",
      " [3 4 7 8]]\n"
     ]
    }
   ],
   "source": [
    "#CONCATENATE ARRAY\n",
    "a = np.array([[1,2],[3,4]])\n",
    "b = np.array([[5,6],[7,8]])\n",
    "\n",
    "conc = np.concatenate((a,b),axis=0)\n",
    "print(conc)\n",
    "print('...............')\n",
    "print(np.vstack((a,b)))\n",
    "print(np.hstack((a,b)))\n"
   ]
  },
  {
   "cell_type": "code",
   "execution_count": 13,
   "id": "ba13c903-cdef-4b9a-a9e1-12df3978c7e5",
   "metadata": {},
   "outputs": [
    {
     "name": "stdout",
     "output_type": "stream",
     "text": [
      "[array([[1],\n",
      "       [4]]), array([[2],\n",
      "       [5]]), array([[3],\n",
      "       [6]])]\n",
      "[array([[1],\n",
      "       [4]]), array([[2],\n",
      "       [5]]), array([[3],\n",
      "       [6]])]\n"
     ]
    }
   ],
   "source": [
    "a = np.array([[1,2,3],[4,5,6]])\n",
    "\n",
    "split = np.split(a,3,axis=1)\n",
    "print(split)\n",
    "\n",
    "hsplit = np.hsplit(a,3)\n",
    "print(hsplit)\n",
    "\n",
    "# vsplit = np.vsplit(a,3)\n",
    "# print(vsplit)\n",
    "\n",
    "\n",
    "\n"
   ]
  },
  {
   "cell_type": "code",
   "execution_count": 169,
   "id": "379c5e43-5085-4844-ba9b-eb4f0d8ae6e1",
   "metadata": {},
   "outputs": [
    {
     "name": "stdout",
     "output_type": "stream",
     "text": [
      "[[1 2]\n",
      " [3 4]]\n",
      "................\n",
      "[[1 2]\n",
      " [3 4]\n",
      " [5 6]\n",
      " [7 8]]\n"
     ]
    }
   ],
   "source": [
    "a = np.array([1,2,3,4])\n",
    "b = np.array([5,6,7,8])\n",
    "\n",
    "reshape_a = a.reshape(2,2)\n",
    "print(reshape_a)\n",
    "\n",
    "reshape_b = b.reshape(2,2)\n",
    "print('................')\n",
    "\n",
    "concat = np.concatenate((reshape_a,reshape_b))\n",
    "print(concat)"
   ]
  },
  {
   "cell_type": "code",
   "execution_count": 175,
   "id": "388c6986-f9c9-470a-86ba-6505674b4a07",
   "metadata": {},
   "outputs": [
    {
     "name": "stdout",
     "output_type": "stream",
     "text": [
      "[1. 2. 3. 4.]\n",
      "[2.71828183e+00 5.45981500e+01 8.10308393e+03 8.88611052e+06]\n"
     ]
    }
   ],
   "source": [
    "#UNIVERSAL FUNCTIONS\n",
    "a = np.array([1, 4, 9, 16])\n",
    "\n",
    "sqrt = np.sqrt(a)\n",
    "print(sqrt)\n",
    "print(np.exp(a))"
   ]
  },
  {
   "cell_type": "code",
   "execution_count": 179,
   "id": "27dd1a35-e65f-4407-b29c-1dfd2668a601",
   "metadata": {},
   "outputs": [
    {
     "name": "stdout",
     "output_type": "stream",
     "text": [
      "15\n"
     ]
    }
   ],
   "source": [
    "#AGGREGATION FUNCTION\n",
    "arr = np.array([1, 2, 3, 4, 5])\n",
    "\n",
    "total = np.sum(arr)  \n",
    "print(total)\n",
    "mean = np.mean(arr)         \n",
    "std_dev = np.std(arr)       \n",
    "minimum = np.min(arr)       \n",
    "maximum = np.max(arr)       \n"
   ]
  },
  {
   "cell_type": "code",
   "execution_count": 5,
   "id": "271ca6f8-b6a7-4f19-94b5-9e10dfb08d64",
   "metadata": {},
   "outputs": [
    {
     "name": "stdout",
     "output_type": "stream",
     "text": [
      "[2.5 3.5 4.5]\n",
      "[0.81649658 0.81649658]\n"
     ]
    }
   ],
   "source": [
    "a = np.array([[1,2,3],[4,5,6]])\n",
    "#calc mean along specific axis\n",
    "mean = np.mean(a,axis=0)\n",
    "print(mean)\n",
    "sd = np.std(a,axis=1)\n",
    "print(sd)"
   ]
  },
  {
   "cell_type": "code",
   "execution_count": 281,
   "id": "54b31336-388c-451e-a7b1-2358b6ee218f",
   "metadata": {},
   "outputs": [
    {
     "name": "stdout",
     "output_type": "stream",
     "text": [
      "[0.72584159 0.20313834]\n",
      "[6 9 5]\n",
      "[-0.79018262 -0.47095737 -1.68238761 -1.02873501  0.1124824 ]\n"
     ]
    }
   ],
   "source": [
    "#RANDOM NUMBERS\n",
    "\n",
    "float = np.random.rand(2)\n",
    "print(float)\n",
    "\n",
    "int = np.random.randint(1,10,size=3)\n",
    "print(int)\n",
    "\n",
    "normal = np.random.normal(loc=0,scale=1,size=5)\n",
    "print(normal)"
   ]
  },
  {
   "cell_type": "code",
   "execution_count": 277,
   "id": "b5e461a2-c8cc-40b6-9f12-450eac1445c0",
   "metadata": {},
   "outputs": [
    {
     "name": "stdout",
     "output_type": "stream",
     "text": [
      "[10 10]\n",
      "[20 10 50 30 40]\n"
     ]
    }
   ],
   "source": [
    "#RANDOM SAMPLING\n",
    "a = np.array([10,20,30,40,50])\n",
    "\n",
    "choice = np.random.choice(a,size=2,replace=True)\n",
    "print(choice)\n",
    "\n",
    "permute = np.random.permutation(a)\n",
    "print(permute)\n"
   ]
  },
  {
   "cell_type": "code",
   "execution_count": 3,
   "id": "7efe840f-0f2e-447b-9d8c-e0094fee0c94",
   "metadata": {},
   "outputs": [
    {
     "name": "stdout",
     "output_type": "stream",
     "text": [
      "0    10\n",
      "1    20\n",
      "2    30\n",
      "3    40\n",
      "dtype: int64\n",
      "10\n"
     ]
    }
   ],
   "source": [
    "#PANDAS\n",
    "import pandas as pd\n",
    "\n",
    "data = [10,20,30,40]\n",
    "series = pd.Series(data)\n",
    "print(series)\n",
    "print(series[0])\n",
    "\n"
   ]
  },
  {
   "cell_type": "code",
   "execution_count": 297,
   "id": "ffb8f098-c6a0-4ae1-a9e5-983d6da0de60",
   "metadata": {},
   "outputs": [
    {
     "name": "stdout",
     "output_type": "stream",
     "text": [
      "      name  age    city\n",
      "0    alice   20      ny\n",
      "1      bob   30     los\n",
      "2  charlie   32  chocgo\n"
     ]
    }
   ],
   "source": [
    "#DATA FRAME\n",
    "data = {\n",
    "    'name':['alice','bob','charlie'],\n",
    "    'age':[20,30,32],\n",
    "    'city':['ny','los','chocgo']\n",
    "}\n",
    "\n",
    "df = pd.DataFrame(data)\n",
    "print(df)\n"
   ]
  },
  {
   "cell_type": "code",
   "execution_count": 311,
   "id": "57f55b69-b8cb-475e-bafc-e268a7999720",
   "metadata": {},
   "outputs": [
    {
     "name": "stdout",
     "output_type": "stream",
     "text": [
      "0    20\n",
      "1    30\n",
      "2    32\n",
      "Name: age, dtype: int64\n",
      "    name  age city\n",
      "0  alice   20   ny\n",
      "    name  age city\n",
      "0  alice   20   ny\n",
      "1    bob   30  los\n"
     ]
    }
   ],
   "source": [
    "print(df['age'])\n",
    "\n",
    "#integer locaction based indexing\n",
    "print(df.iloc[0:1])\n",
    "#label based indexing\n",
    "print(df.loc[0:1])\n",
    "      "
   ]
  },
  {
   "cell_type": "code",
   "execution_count": 313,
   "id": "b2d6b2c5-eacb-47e6-835a-804d2af1b0e4",
   "metadata": {},
   "outputs": [
    {
     "name": "stdout",
     "output_type": "stream",
     "text": [
      "      name  age    city\n",
      "1      bob   30     los\n",
      "2  charlie   32  chocgo\n"
     ]
    }
   ],
   "source": [
    "#Boolean Indexing\n",
    "condn = df[df['age'] > 28]\n",
    "print(condn)\n",
    "\n"
   ]
  },
  {
   "cell_type": "code",
   "execution_count": 331,
   "id": "12f8c5cf-a186-4293-b0b1-55bba51caf74",
   "metadata": {},
   "outputs": [
    {
     "name": "stdout",
     "output_type": "stream",
     "text": [
      "    Name   Age\n",
      "0  Alice  25.0\n",
      "1    Bob   NaN\n",
      "2   None  35.0\n",
      ".......\n",
      "    Name   Age\n",
      "0  Alice  25.0\n",
      ".........\n",
      "      Name   Age\n",
      "0    Alice  25.0\n",
      "1      Bob  30.0\n",
      "2  Unknown  35.0\n"
     ]
    }
   ],
   "source": [
    "#Data Manipulation\n",
    "data = {\n",
    "    'Name': ['Alice', 'Bob', None],\n",
    "    'Age': [25, None, 35]\n",
    "}\n",
    "df = pd.DataFrame(data)\n",
    "print(df)\n",
    "print('.......')\n",
    "\n",
    "remove = df.dropna()\n",
    "print(remove)\n",
    "\n",
    "print('.........')\n",
    "\n",
    "fill = df.fillna({'Name': 'Unknown', 'Age': df['Age'].mean()})\n",
    "print(fill)\n",
    "                 \n",
    "                 \n",
    "\n",
    "\n"
   ]
  },
  {
   "cell_type": "code",
   "execution_count": 344,
   "id": "3423182b-c5a3-440a-9478-d20629a0e3aa",
   "metadata": {},
   "outputs": [
    {
     "name": "stdout",
     "output_type": "stream",
     "text": [
      "    Name  Age\n",
      "0  Alice   25\n",
      "1    Bob   30\n",
      "2  Alice   25\n",
      ">>>>>>>>\n",
      "    Name  Age\n",
      "0  Alice   25\n",
      "1    Bob   30\n"
     ]
    }
   ],
   "source": [
    "#Remove Duplicates in DataFrame\n",
    "data = {\n",
    "    'Name': ['Alice', 'Bob', 'Alice'],\n",
    "    'Age': [25, 30, 25]\n",
    "}\n",
    "df = pd.DataFrame(data)\n",
    "print(df)\n",
    "\n",
    "removeDuplicate = df.drop_duplicates()\n",
    "print('>>>>>>>>')\n",
    "print(removeDuplicate)\n",
    "\n",
    "\n"
   ]
  },
  {
   "cell_type": "code",
   "execution_count": 5,
   "id": "b62ac072-e8b5-4053-a569-fdd4a8d6e7a6",
   "metadata": {},
   "outputs": [
    {
     "name": "stdout",
     "output_type": "stream",
     "text": [
      "  Salesperson Product  Sales\n",
      "0       Alice       A    200\n",
      "1         Bob       A    150\n",
      "2       Alice       B    300\n",
      "3         Bob       B    200\n",
      "4       Alice       C    250\n",
      "5         Bob       C    100\n",
      ">>>>>>>>>>>>>>>>>>>>>\n",
      "Salesperson  Alice  Bob\n",
      "Product                \n",
      "A              200  150\n",
      "B              300  200\n",
      "C              250  100\n"
     ]
    }
   ],
   "source": [
    "#PIVOT TABLE\n",
    "import pandas as pd\n",
    "data = {\n",
    "    'Salesperson': ['Alice', 'Bob', 'Alice', 'Bob', 'Alice', 'Bob'],\n",
    "    'Product': ['A', 'A', 'B', 'B', 'C', 'C'],\n",
    "    'Sales': [200, 150, 300, 200, 250, 100]\n",
    "}\n",
    "df = pd.DataFrame(data)\n",
    "print(df)\n",
    "print('>>>>>>>>>>>>>>>>>>>>>')\n",
    "\n",
    "\n",
    "pivot = df.pivot_table(values='Sales',index='Product',columns='Salesperson',aggfunc='sum',fill_value=0)\n",
    "print(pivot)\n"
   ]
  },
  {
   "cell_type": "code",
   "execution_count": 378,
   "id": "1a48ad76-de18-4897-ab71-c3b7a01c3851",
   "metadata": {},
   "outputs": [
    {
     "name": "stdout",
     "output_type": "stream",
     "text": [
      "   score\n",
      "0     85\n",
      "1     90\n",
      "2     95\n",
      "3     80\n",
      "4     75\n",
      "5     92\n",
      "6     88\n",
      "<<<<<<<<<<<<<<<\n",
      "           score\n",
      "count   7.000000\n",
      "mean   86.428571\n",
      "std     6.996598\n",
      "min    75.000000\n",
      "25%    82.500000\n",
      "50%    88.000000\n",
      "75%    91.000000\n",
      "max    95.000000\n",
      "score    86.428571\n",
      "dtype: float64\n"
     ]
    }
   ],
   "source": [
    "#SUMMARY STATISTICS\n",
    "\n",
    "data = {'score':[85, 90, 95, 80, 75, 92, 88]}\n",
    "df = pd.DataFrame(data)\n",
    "print(df)\n",
    "print('<<<<<<<<<<<<<<<')\n",
    "summary = df.describe()\n",
    "print(summary)\n",
    "\n",
    "mean = df.mean()\n",
    "print(mean)"
   ]
  },
  {
   "cell_type": "code",
   "execution_count": 388,
   "id": "a89460ae-5841-44f2-b12e-5d1850201b59",
   "metadata": {},
   "outputs": [
    {
     "name": "stdout",
     "output_type": "stream",
     "text": [
      "  Department Employee  Salary\n",
      "0      Sales    Alice   50000\n",
      "1      Sales      Bob   60000\n",
      "2         HR  Charlie   55000\n",
      "3         HR    David   48000\n",
      "4         IT      Eve   70000\n",
      "5         IT    Frank   72000\n",
      ">>>>>>>>>>>>>>>>>>>>\n",
      "Department\n",
      "HR       103000\n",
      "IT       142000\n",
      "Sales    110000\n",
      "Name: Salary, dtype: int64\n"
     ]
    }
   ],
   "source": [
    "#GROUPBY\n",
    "data = {\n",
    "    'Department': ['Sales', 'Sales', 'HR', 'HR', 'IT', 'IT'],\n",
    "    'Employee': ['Alice', 'Bob', 'Charlie', 'David', 'Eve', 'Frank'],\n",
    "    'Salary': [50000, 60000, 55000, 48000, 70000, 72000]\n",
    "}\n",
    "df = pd.DataFrame(data)\n",
    "print(df)\n",
    "print('>>>>>>>>>>>>>>>>>>>>')\n",
    "\n",
    "group = df.groupby('Department')['Salary'].sum()\n",
    "print(group)\n",
    "\n"
   ]
  },
  {
   "cell_type": "code",
   "execution_count": 11,
   "id": "3bf89cc8-9c6a-49ff-933b-b4ff478cae0e",
   "metadata": {},
   "outputs": [
    {
     "name": "stdout",
     "output_type": "stream",
     "text": [
      "100\n",
      "400\n",
      "8100\n",
      "900\n",
      "1600\n",
      "2500\n"
     ]
    }
   ],
   "source": [
    "a = np.array([[10,20,90],[30,40,50]])\n",
    "\n",
    "for i in np.nditer(a):\n",
    "    print(i**2)"
   ]
  },
  {
   "cell_type": "code",
   "execution_count": 29,
   "id": "15a0231c-8da5-47f5-961b-6fb1ce82f409",
   "metadata": {},
   "outputs": [
    {
     "name": "stdout",
     "output_type": "stream",
     "text": [
      "0.0\n",
      "1.0\n"
     ]
    }
   ],
   "source": [
    "from scipy.stats import *\n",
    "a = np.array([78, 82, 75, 70, 68, 80, 85, 77, 73, 79])\n",
    "mean = np.mean(a)\n",
    "\n",
    "\n",
    "t,p = ttest_1samp(a,mean)\n",
    "print(t)\n",
    "print(p)"
   ]
  },
  {
   "cell_type": "code",
   "execution_count": null,
   "id": "a81757c5-083a-4f6c-a96c-2f7d563e804f",
   "metadata": {},
   "outputs": [],
   "source": []
  }
 ],
 "metadata": {
  "kernelspec": {
   "display_name": "Python 3 (ipykernel)",
   "language": "python",
   "name": "python3"
  },
  "language_info": {
   "codemirror_mode": {
    "name": "ipython",
    "version": 3
   },
   "file_extension": ".py",
   "mimetype": "text/x-python",
   "name": "python",
   "nbconvert_exporter": "python",
   "pygments_lexer": "ipython3",
   "version": "3.12.4"
  }
 },
 "nbformat": 4,
 "nbformat_minor": 5
}
